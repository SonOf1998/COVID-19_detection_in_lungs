{
  "nbformat": 4,
  "nbformat_minor": 0,
  "metadata": {
    "colab": {
      "name": "deep_learning_hazi.ipynb",
      "provenance": [],
      "collapsed_sections": [],
      "toc_visible": true,
      "authorship_tag": "ABX9TyMOm4Pj98tPfqCWxm9G/yFw",
      "include_colab_link": true
    },
    "kernelspec": {
      "name": "python3",
      "display_name": "Python 3"
    }
  },
  "cells": [
    {
      "cell_type": "markdown",
      "metadata": {
        "id": "view-in-github",
        "colab_type": "text"
      },
      "source": [
        "<a href=\"https://colab.research.google.com/github/SonOf1998/COVID-19_detection_in_lungs/blob/miki_workspace/COVIDDetector.ipynb\" target=\"_parent\"><img src=\"https://colab.research.google.com/assets/colab-badge.svg\" alt=\"Open In Colab\"/></a>"
      ]
    },
    {
      "cell_type": "code",
      "metadata": {
        "id": "YQR_M126BVTE"
      },
      "source": [
        "import os\n",
        "from urllib.request import urlretrieve\n",
        "import requests\n",
        "import zipfile\n",
        "import shutil\n",
        "import random\n"
      ],
      "execution_count": 27,
      "outputs": []
    },
    {
      "cell_type": "code",
      "metadata": {
        "id": "tG73NL4pZH7g"
      },
      "source": [
        "def rename_all_files_in_folder_with_indices(dir_full_path, files_base_name):\n",
        "  for idx, file in enumerate(os.listdir(dir_full_path)):\n",
        "    splitf = file.split('.')\n",
        "    os.rename(os.path.join(dir_full_path, file), os.path.join(dir_full_path, '{}{:04d}.{}'.format(files_base_name, idx, splitf[-1])))"
      ],
      "execution_count": 2,
      "outputs": []
    },
    {
      "cell_type": "code",
      "metadata": {
        "id": "rjZBKh6qf7iX"
      },
      "source": [
        "url = 'https://github.com/muhammedtalo/COVID-19/archive/master.zip'\n",
        "urlretrieve(url,\"master.zip\")\n",
        "\n",
        "local_zip = 'master.zip'\n",
        "zip_ref = zipfile.ZipFile(local_zip,'r')\n",
        "zip_ref.extractall()\n",
        "zip_ref.close()\n",
        "\n",
        "if os.path.exists(\"master.zip\"):\n",
        "  os.remove(\"master.zip\")"
      ],
      "execution_count": 3,
      "outputs": []
    },
    {
      "cell_type": "code",
      "metadata": {
        "id": "ierb7cmVk5iU"
      },
      "source": [
        "if os.path.exists(os.path.join('COVID-19-master', 'DarkCovidNet  for binary classes.ipynb')):\n",
        "  os.remove(os.path.join('COVID-19-master', 'DarkCovidNet  for binary classes.ipynb'))\n",
        "if os.path.exists(os.path.join('COVID-19-master', 'DarkCovidNet model for three classes.ipynb')):\n",
        "  os.remove(os.path.join('COVID-19-master', 'DarkCovidNet model for three classes.ipynb'))\n",
        "if os.path.exists(os.path.join('COVID-19-master', 'README.md')):\n",
        "  os.remove(os.path.join('COVID-19-master', 'README.md'))"
      ],
      "execution_count": 4,
      "outputs": []
    },
    {
      "cell_type": "code",
      "metadata": {
        "id": "iNEtHxDcAeEn"
      },
      "source": [
        "destination = os.getcwd()\n",
        "\n",
        "source = os.path.join('COVID-19-master', 'X-Ray Image DataSet')\n",
        "shutil.move(source, destination)\n",
        "\n",
        "os.rmdir('COVID-19-master')"
      ],
      "execution_count": 5,
      "outputs": []
    },
    {
      "cell_type": "code",
      "metadata": {
        "id": "8vtcAuliQasH"
      },
      "source": [
        "base_dir = 'train_image_dataset'\n",
        "os.rename('X-Ray Image DataSet', base_dir)\n",
        "\n",
        "os.rename(os.path.join(base_dir, 'Covid-19'), os.path.join(base_dir, 'covid_19'))\n",
        "os.rename(os.path.join(base_dir, 'No_findings'), os.path.join(base_dir, 'no_findings'))\n",
        "os.rename(os.path.join(base_dir, 'Pneumonia'), os.path.join(base_dir, 'pneumonia'))\n",
        "\n",
        "rename_all_files_in_folder_with_indices(os.path.join(base_dir, 'covid_19'), 'covid_')\n",
        "rename_all_files_in_folder_with_indices(os.path.join(base_dir, 'no_findings'), 'no_findings_')\n",
        "rename_all_files_in_folder_with_indices(os.path.join(base_dir, 'pneumonia'), 'pneumonia_')"
      ],
      "execution_count": 6,
      "outputs": []
    },
    {
      "cell_type": "code",
      "metadata": {
        "id": "GVrSFBDOsUZy"
      },
      "source": [
        "base_test_dir = 'test_image_dataset'\n",
        "os.mkdir(base_test_dir)\n",
        "os.mkdir(os.path.join(base_test_dir, 'covid_19'))\n",
        "os.mkdir(os.path.join(base_test_dir, 'no_findings'))\n",
        "os.mkdir(os.path.join(base_test_dir, 'pneumonia'))"
      ],
      "execution_count": 9,
      "outputs": []
    },
    {
      "cell_type": "code",
      "metadata": {
        "id": "V3GNLhpGH8AR"
      },
      "source": [
        "test_split = 0.1"
      ],
      "execution_count": null,
      "outputs": []
    },
    {
      "cell_type": "code",
      "metadata": {
        "id": "Lql0NpP1CWxh"
      },
      "source": [
        "random.seed(1)\n",
        "\n",
        "test_split = 0.1\n",
        "current_directory = os.path.join(base_dir, 'covid_19')\n",
        "new_directory = os.path.join(base_test_dir, 'covid_19')\n",
        "for i in range(int(len(os.listdir(current_directory)) * test_split)):\n",
        "  images = os.listdir(current_directory)\n",
        "  random_image = random.choice(images)\n",
        "  shutil.move(os.path.join(current_directory, random_image), new_directory)\n",
        "\n",
        "current_directory = os.path.join(base_dir, 'no_findings')\n",
        "new_directory = os.path.join(base_test_dir, 'no_findings')\n",
        "for i in range(int(len(os.listdir(current_directory)) * test_split)):\n",
        "  images = os.listdir(current_directory)\n",
        "  random_image = random.choice(images)\n",
        "  shutil.move(os.path.join(current_directory, random_image), new_directory)\n",
        "\n",
        "current_directory = os.path.join(base_dir, 'pneumonia')\n",
        "new_directory = os.path.join(base_test_dir, 'pneumonia')\n",
        "for i in range(int(len(os.listdir(current_directory)) * test_split)):\n",
        "  images = os.listdir(current_directory)\n",
        "  random_image = random.choice(images)\n",
        "  shutil.move(os.path.join(current_directory, random_image), new_directory)"
      ],
      "execution_count": 29,
      "outputs": []
    },
    {
      "cell_type": "code",
      "metadata": {
        "id": "TNEPvT3nChur",
        "outputId": "427bf04e-87a2-415d-c8da-3c488cb52be2",
        "colab": {
          "base_uri": "https://localhost:8080/",
          "height": 34
        }
      },
      "source": [
        ""
      ],
      "execution_count": 32,
      "outputs": [
        {
          "output_type": "execute_result",
          "data": {
            "text/plain": [
              "50"
            ]
          },
          "metadata": {
            "tags": []
          },
          "execution_count": 32
        }
      ]
    },
    {
      "cell_type": "code",
      "metadata": {
        "id": "F-Y_8hvKGGtu"
      },
      "source": [
        ""
      ],
      "execution_count": null,
      "outputs": []
    }
  ]
}